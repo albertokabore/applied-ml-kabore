{
 "cells": [
  {
   "cell_type": "markdown",
   "id": "01fcef41",
   "metadata": {},
   "source": [
    "# Project 2"
   ]
  },
  {
   "cell_type": "markdown",
   "id": "cc03892b",
   "metadata": {},
   "source": [
    " ## Kabore Titanic Data Features\n"
   ]
  },
  {
   "cell_type": "markdown",
   "id": "bd6608e4",
   "metadata": {},
   "source": [
    "### Project Overview\n"
   ]
  },
  {
   "cell_type": "markdown",
   "id": "81998bb7",
   "metadata": {},
   "source": [
    "### Section 1. Import and Inspect the Data"
   ]
  },
  {
   "cell_type": "code",
   "execution_count": null,
   "id": "9872244c",
   "metadata": {},
   "outputs": [],
   "source": [
    "# All imports should be at the top of the notebook\n",
    "\n",
    "import pandas as pd\n",
    "import numpy as np\n",
    "\n",
    "# Visualization libraries\n",
    "import matplotlib.pyplot as plt\n",
    "import seaborn as sns\n",
    "\n",
    "# Machine Learning tools\n",
    "from sklearn.datasets import fetch_california_housing\n",
    "from sklearn.model_selection import train_test_split\n",
    "from sklearn.linear_model import LinearRegression\n",
    "from sklearn.metrics import r2_score, mean_absolute_error, root_mean_squared_error"
   ]
  },
  {
   "cell_type": "code",
   "execution_count": null,
   "id": "17aa781f",
   "metadata": {},
   "outputs": [],
   "source": [
    "# Load Titanic dataset\n",
    "titanic = sns.load_dataset('titanic')"
   ]
  },
  {
   "cell_type": "markdown",
   "id": "fcda5dca",
   "metadata": {},
   "source": [
    "### Display basic information about the dataset using the info() method.\n",
    "\n"
   ]
  },
  {
   "cell_type": "code",
   "execution_count": null,
   "id": "b636b63c",
   "metadata": {},
   "outputs": [],
   "source": [
    "titanic.info()\n"
   ]
  },
  {
   "cell_type": "markdown",
   "id": "a363a3e5",
   "metadata": {},
   "source": [
    "### Display the first 10 rows"
   ]
  },
  {
   "cell_type": "code",
   "execution_count": null,
   "id": "c2410de0",
   "metadata": {},
   "outputs": [],
   "source": [
    "print(titanic.head(10))\n"
   ]
  },
  {
   "cell_type": "markdown",
   "id": "b5255e89",
   "metadata": {},
   "source": [
    "Check for missing values using the isnull"
   ]
  },
  {
   "cell_type": "code",
   "execution_count": null,
   "id": "eeaf9fb4",
   "metadata": {},
   "outputs": [],
   "source": [
    "titanic.isnull().sum()\n"
   ]
  },
  {
   "cell_type": "markdown",
   "id": "4520d1b0",
   "metadata": {},
   "source": [
    "## Summary statistics"
   ]
  },
  {
   "cell_type": "code",
   "execution_count": null,
   "id": "21f30fd3",
   "metadata": {},
   "outputs": [],
   "source": [
    "print(titanic.describe())\n"
   ]
  },
  {
   "cell_type": "markdown",
   "id": "de4c5560",
   "metadata": {},
   "source": [
    "Check for correlations using the corr() method "
   ]
  },
  {
   "cell_type": "code",
   "execution_count": null,
   "id": "ac2b3fbe",
   "metadata": {},
   "outputs": [],
   "source": [
    "print(titanic.corr(numeric_only=True))\n"
   ]
  },
  {
   "cell_type": "markdown",
   "id": "29b785d7",
   "metadata": {},
   "source": [
    "## Section 2. Data Exploration and Preparation\n"
   ]
  },
  {
   "cell_type": "markdown",
   "id": "1b6d3185",
   "metadata": {},
   "source": [
    "### 2.1 Explore Data Patterns and Distributions\n"
   ]
  },
  {
   "cell_type": "markdown",
   "id": "b9cd0789",
   "metadata": {},
   "source": [
    "### Create a scatter matrix. \n",
    "\n"
   ]
  },
  {
   "cell_type": "code",
   "execution_count": null,
   "id": "a83f4541",
   "metadata": {},
   "outputs": [],
   "source": [
    "# all imports get moved to the top - import each only once\n",
    "from pandas.plotting import scatter_matrix\n",
    "\n",
    "\n",
    "attributes = ['age', 'fare', 'pclass']\n",
    "scatter_matrix(titanic[attributes], figsize=(10, 10))"
   ]
  },
  {
   "cell_type": "markdown",
   "id": "eeaed2e5",
   "metadata": {},
   "source": [
    "### Create a scatter plot of age vs fare, colored by gender:"
   ]
  },
  {
   "cell_type": "code",
   "execution_count": null,
   "id": "81c8371b",
   "metadata": {},
   "outputs": [],
   "source": [
    "# all imports get moved to the top - import each only once\n",
    "import matplotlib.pyplot as plt\n"
   ]
  },
  {
   "cell_type": "code",
   "execution_count": null,
   "id": "6a6a4fd5",
   "metadata": {},
   "outputs": [],
   "source": [
    "plt.scatter(titanic['age'], titanic['fare'], c=titanic['sex'].apply(lambda x: 0 if x == 'male' else 1))\n",
    "plt.xlabel('Age')\n",
    "plt.ylabel('Fare')\n",
    "plt.title('Age vs Fare by Gender')\n",
    "plt.show()"
   ]
  },
  {
   "cell_type": "markdown",
   "id": "268cc10b",
   "metadata": {},
   "source": [
    "### plt.scatter(titanic['age'], titanic['fare'], c=titanic['sex'].apply(lambda x: 0 if x == 'male' else 1))\n",
    "plt.xlabel('Age')\n",
    "plt.ylabel('Fare')\n",
    "plt.title('Age vs Fare by Gender')\n",
    "plt.show()"
   ]
  },
  {
   "cell_type": "code",
   "execution_count": null,
   "id": "f3b5a4b9",
   "metadata": {},
   "outputs": [],
   "source": [
    "Create a histogram of age:\n",
    "\n",
    "\n"
   ]
  },
  {
   "cell_type": "markdown",
   "id": "fb51b33c",
   "metadata": {},
   "source": [
    "sns.histplot(titanic['age'], kde=True)\n",
    "plt.title('Age Distribution')\n",
    "plt.show()"
   ]
  },
  {
   "cell_type": "markdown",
   "id": "e579ac1f",
   "metadata": {},
   "source": [
    "Create a count plot for class and survival:\n",
    "\n"
   ]
  },
  {
   "cell_type": "code",
   "execution_count": null,
   "id": "79fff20b",
   "metadata": {},
   "outputs": [],
   "source": [
    "sns.countplot(x='class', hue='survived', data=titanic)\n",
    "plt.title('Class Distribution by Survival')\n",
    "plt.show()"
   ]
  },
  {
   "cell_type": "markdown",
   "id": "3209981a",
   "metadata": {},
   "source": [
    "## Reflection 2.1:\n",
    "\n"
   ]
  },
  {
   "cell_type": "markdown",
   "id": "583c6370",
   "metadata": {},
   "source": [
    "## 2.2 Handle Missing Values and Clean Data\n",
    "\n"
   ]
  },
  {
   "cell_type": "code",
   "execution_count": null,
   "id": "527a8775",
   "metadata": {},
   "outputs": [],
   "source": [
    "titanic['age'].fillna(titanic['age'].median(), inplace=True)\n"
   ]
  },
  {
   "cell_type": "code",
   "execution_count": null,
   "id": "e58fe148",
   "metadata": {},
   "outputs": [],
   "source": [
    "titanic['embark_town'].fillna(titanic['embark_town'].mode()[0], inplace=True)\n",
    "\n"
   ]
  },
  {
   "cell_type": "markdown",
   "id": "54723814",
   "metadata": {},
   "source": [
    "## 2.3 Feature Engineering\n"
   ]
  },
  {
   "cell_type": "markdown",
   "id": "b5802174",
   "metadata": {},
   "source": [
    "\n",
    "titanic['family_size'] = titanic['sibsp'] + titanic['parch'] + 1\n",
    "\n"
   ]
  },
  {
   "cell_type": "markdown",
   "id": "53dcd56f",
   "metadata": {},
   "source": [
    "### Convert categorical data to numeric:\n",
    "\n"
   ]
  },
  {
   "cell_type": "code",
   "execution_count": null,
   "id": "251c78ce",
   "metadata": {},
   "outputs": [],
   "source": [
    "titanic['sex'] = titanic['sex'].map({'male': 0, 'female': 1})\n",
    "titanic['embarked'] = titanic['embarked'].map({'C': 0, 'Q': 1, 'S': 2})\n",
    "\n"
   ]
  },
  {
   "cell_type": "markdown",
   "id": "4ff494a6",
   "metadata": {},
   "source": [
    "### Create a binary feature for 'alone':\n",
    "\n"
   ]
  },
  {
   "cell_type": "code",
   "execution_count": null,
   "id": "a8056443",
   "metadata": {},
   "outputs": [],
   "source": [
    "titanic['alone'] = titanic['alone'].astype(int)\n",
    "\n"
   ]
  },
  {
   "cell_type": "markdown",
   "id": "8473843b",
   "metadata": {},
   "source": [
    "## Reflection 2.3\n",
    "\n"
   ]
  },
  {
   "cell_type": "markdown",
   "id": "ec965892",
   "metadata": {},
   "source": [
    "## Section 3. Feature Selection and Justification\n"
   ]
  },
  {
   "cell_type": "markdown",
   "id": "5f0fa07e",
   "metadata": {},
   "source": [
    "### 3.1 Choose features and target\n",
    "\n"
   ]
  },
  {
   "cell_type": "markdown",
   "id": "5b122bfd",
   "metadata": {},
   "source": [
    "### 3.2 Define X and y\n",
    "\n"
   ]
  },
  {
   "cell_type": "code",
   "execution_count": null,
   "id": "c090990a",
   "metadata": {},
   "outputs": [],
   "source": [
    "X = titanic[['age', 'fare', 'pclass', 'sex', 'family_size']]\n",
    "y = titanic['survived']"
   ]
  },
  {
   "cell_type": "markdown",
   "id": "197d8782",
   "metadata": {},
   "source": [
    "## Reflection 3:\n",
    "\n"
   ]
  },
  {
   "cell_type": "markdown",
   "id": "6e74ec10",
   "metadata": {},
   "source": [
    "## Section 4. Splitting\n"
   ]
  },
  {
   "cell_type": "markdown",
   "id": "f8ca99a9",
   "metadata": {},
   "source": [
    "### Basic Train/Test split \n"
   ]
  },
  {
   "cell_type": "code",
   "execution_count": null,
   "id": "26e61d04",
   "metadata": {},
   "outputs": [],
   "source": [
    "from sklearn.model_selection import train_test_split\n",
    "\n",
    "train_set, test_set = train_test_split(X, y, test_size=0.2, random_state=123)\n",
    "\n",
    "print('Train size:', len(train_set))\n",
    "print('Test size:', len(test_set))"
   ]
  },
  {
   "cell_type": "markdown",
   "id": "22952a68",
   "metadata": {},
   "source": [
    "### Stratified Train/Test split\n"
   ]
  },
  {
   "cell_type": "code",
   "execution_count": null,
   "id": "c985bfa8",
   "metadata": {},
   "outputs": [],
   "source": [
    "from sklearn.model_selection import StratifiedShuffleSplit\n",
    "\n",
    "splitter = StratifiedShuffleSplit(n_splits=1, test_size=0.2, random_state=123)\n",
    "\n",
    "for train_indices, test_indices in splitter.split(X, y):\n",
    "    train_set = X.iloc[train_indices]\n",
    "    test_set = X.iloc[test_indices]\n",
    "\n",
    "print('Train size:', len(train_set))\n",
    "print('Test size:', len(test_set))"
   ]
  },
  {
   "cell_type": "markdown",
   "id": "20811790",
   "metadata": {},
   "source": [
    "### Compare Results\n"
   ]
  },
  {
   "cell_type": "code",
   "execution_count": null,
   "id": "91f5a853",
   "metadata": {},
   "outputs": [],
   "source": [
    "print(\"Original Class Distribution:\\n\", y.value_counts(normalize=True))\n",
    "print(\"Train Set Class Distribution:\\n\", train_set['pclass'].value_counts(normalize=True))\n",
    "print(\"Test Set Class Distribution:\\n\", test_set['pclass'].value_counts(normalize=True))"
   ]
  },
  {
   "cell_type": "markdown",
   "id": "414d84dc",
   "metadata": {},
   "source": [
    "Reflection 4:\n",
    "\n"
   ]
  }
 ],
 "metadata": {
  "kernelspec": {
   "display_name": ".venv",
   "language": "python",
   "name": "python3"
  },
  "language_info": {
   "name": "python",
   "version": "3.13.5"
  }
 },
 "nbformat": 4,
 "nbformat_minor": 5
}
