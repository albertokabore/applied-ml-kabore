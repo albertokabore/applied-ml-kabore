{
 "cells": [
  {
   "cell_type": "markdown",
   "id": "01fcef41",
   "metadata": {},
   "source": [
    "# Project 2"
   ]
  },
  {
   "cell_type": "markdown",
   "id": "cc03892b",
   "metadata": {},
   "source": [
    " ## Albert Kabore Titanic Data Features\n"
   ]
  },
  {
   "cell_type": "markdown",
   "id": "e0ebf695",
   "metadata": {},
   "source": [
    "#### Author: Albert Kabore\n",
    "\n",
    "#### Date: October 30, 2025\n",
    "\n",
    "#### Objective: Analyze and prepare the Titanic dataset for machine learning."
   ]
  },
  {
   "cell_type": "markdown",
   "id": "7fda61ac",
   "metadata": {},
   "source": [
    "## Introduction: \n",
    "\n",
    "\n",
    "The sinking of the RMS Titanic in April 1912 stands as one of the most tragic and historically significant maritime disasters. More than a century later, the Titanic dataset continues to serve as a foundational tool for learning data science concepts, offering valuable insights into human behavior, societal structure, and survival dynamics during the catastrophe.\n",
    "\n",
    "In this project, I use Python, Markdown, and modern data science libraries such as Pandas, Seaborn, and Scikit-learn to explore patterns within the Titanic passenger dataset. The analysis focuses on understanding how factors such as age, gender, passenger class, fare, and family size may have influenced survival outcomes. Through data visualization, feature engineering, and statistical exploration, this notebook aims to uncover meaningful relationships and provide an evidence-based narrative of the tragedy from a data-driven perspective."
   ]
  },
  {
   "cell_type": "markdown",
   "id": "bd6608e4",
   "metadata": {},
   "source": [
    "### Project Overview\n"
   ]
  },
  {
   "cell_type": "markdown",
   "id": "81998bb7",
   "metadata": {},
   "source": [
    "### Section 1. Import and Inspect the Data"
   ]
  },
  {
   "cell_type": "markdown",
   "id": "759dbcc9",
   "metadata": {},
   "source": [
    "### Import libraries"
   ]
  },
  {
   "cell_type": "code",
   "execution_count": 726,
   "id": "9872244c",
   "metadata": {},
   "outputs": [],
   "source": [
    "# All imports should be at the top of the notebook\n",
    "\n",
    "import pandas as pd\n",
    "import numpy as np\n",
    "\n",
    "# Visualization libraries\n",
    "import matplotlib.pyplot as plt\n",
    "import seaborn as sns\n",
    "\n",
    "# Machine Learning tools\n",
    "from sklearn.datasets import fetch_california_housing\n",
    "from sklearn.model_selection import train_test_split\n",
    "from sklearn.linear_model import LinearRegression\n",
    "from sklearn.metrics import r2_score, mean_absolute_error, root_mean_squared_error"
   ]
  },
  {
   "cell_type": "markdown",
   "id": "d552fd9f",
   "metadata": {},
   "source": [
    "### Load the dataset"
   ]
  },
  {
   "cell_type": "code",
   "execution_count": 727,
   "id": "17aa781f",
   "metadata": {},
   "outputs": [],
   "source": [
    "# Load Titanic dataset\n",
    "titanic = sns.load_dataset('titanic')"
   ]
  },
  {
   "cell_type": "markdown",
   "id": "fcda5dca",
   "metadata": {},
   "source": [
    "### Display basic information about the dataset using the info() method.\n",
    "\n"
   ]
  },
  {
   "cell_type": "code",
   "execution_count": 728,
   "id": "b636b63c",
   "metadata": {},
   "outputs": [
    {
     "name": "stdout",
     "output_type": "stream",
     "text": [
      "<class 'pandas.core.frame.DataFrame'>\n",
      "RangeIndex: 891 entries, 0 to 890\n",
      "Data columns (total 15 columns):\n",
      " #   Column       Non-Null Count  Dtype   \n",
      "---  ------       --------------  -----   \n",
      " 0   survived     891 non-null    int64   \n",
      " 1   pclass       891 non-null    int64   \n",
      " 2   sex          891 non-null    object  \n",
      " 3   age          714 non-null    float64 \n",
      " 4   sibsp        891 non-null    int64   \n",
      " 5   parch        891 non-null    int64   \n",
      " 6   fare         891 non-null    float64 \n",
      " 7   embarked     889 non-null    object  \n",
      " 8   class        891 non-null    category\n",
      " 9   who          891 non-null    object  \n",
      " 10  adult_male   891 non-null    bool    \n",
      " 11  deck         203 non-null    category\n",
      " 12  embark_town  889 non-null    object  \n",
      " 13  alive        891 non-null    object  \n",
      " 14  alone        891 non-null    bool    \n",
      "dtypes: bool(2), category(2), float64(2), int64(4), object(5)\n",
      "memory usage: 80.7+ KB\n"
     ]
    }
   ],
   "source": [
    "titanic.info()\n"
   ]
  },
  {
   "cell_type": "markdown",
   "id": "a363a3e5",
   "metadata": {},
   "source": [
    "### Display the first 10 rows"
   ]
  },
  {
   "cell_type": "code",
   "execution_count": 729,
   "id": "c2410de0",
   "metadata": {},
   "outputs": [
    {
     "name": "stdout",
     "output_type": "stream",
     "text": [
      "   survived  pclass     sex   age  sibsp  parch     fare embarked   class  \\\n",
      "0         0       3    male  22.0      1      0   7.2500        S   Third   \n",
      "1         1       1  female  38.0      1      0  71.2833        C   First   \n",
      "2         1       3  female  26.0      0      0   7.9250        S   Third   \n",
      "3         1       1  female  35.0      1      0  53.1000        S   First   \n",
      "4         0       3    male  35.0      0      0   8.0500        S   Third   \n",
      "5         0       3    male   NaN      0      0   8.4583        Q   Third   \n",
      "6         0       1    male  54.0      0      0  51.8625        S   First   \n",
      "7         0       3    male   2.0      3      1  21.0750        S   Third   \n",
      "8         1       3  female  27.0      0      2  11.1333        S   Third   \n",
      "9         1       2  female  14.0      1      0  30.0708        C  Second   \n",
      "\n",
      "     who  adult_male deck  embark_town alive  alone  \n",
      "0    man        True  NaN  Southampton    no  False  \n",
      "1  woman       False    C    Cherbourg   yes  False  \n",
      "2  woman       False  NaN  Southampton   yes   True  \n",
      "3  woman       False    C  Southampton   yes  False  \n",
      "4    man        True  NaN  Southampton    no   True  \n",
      "5    man        True  NaN   Queenstown    no   True  \n",
      "6    man        True    E  Southampton    no   True  \n",
      "7  child       False  NaN  Southampton    no  False  \n",
      "8  woman       False  NaN  Southampton   yes  False  \n",
      "9  child       False  NaN    Cherbourg   yes  False  \n"
     ]
    }
   ],
   "source": [
    "print(titanic.head(10))\n"
   ]
  },
  {
   "cell_type": "markdown",
   "id": "b5255e89",
   "metadata": {},
   "source": [
    "### Check for missing values"
   ]
  },
  {
   "cell_type": "code",
   "execution_count": 730,
   "id": "eeaf9fb4",
   "metadata": {},
   "outputs": [
    {
     "data": {
      "text/plain": [
       "survived         0\n",
       "pclass           0\n",
       "sex              0\n",
       "age            177\n",
       "sibsp            0\n",
       "parch            0\n",
       "fare             0\n",
       "embarked         2\n",
       "class            0\n",
       "who              0\n",
       "adult_male       0\n",
       "deck           688\n",
       "embark_town      2\n",
       "alive            0\n",
       "alone            0\n",
       "dtype: int64"
      ]
     },
     "execution_count": 730,
     "metadata": {},
     "output_type": "execute_result"
    }
   ],
   "source": [
    "titanic.isnull().sum()\n"
   ]
  },
  {
   "cell_type": "markdown",
   "id": "4520d1b0",
   "metadata": {},
   "source": [
    "### Summary statistics"
   ]
  },
  {
   "cell_type": "code",
   "execution_count": 731,
   "id": "21f30fd3",
   "metadata": {},
   "outputs": [
    {
     "name": "stdout",
     "output_type": "stream",
     "text": [
      "         survived      pclass         age       sibsp       parch        fare\n",
      "count  891.000000  891.000000  714.000000  891.000000  891.000000  891.000000\n",
      "mean     0.383838    2.308642   29.699118    0.523008    0.381594   32.204208\n",
      "std      0.486592    0.836071   14.526497    1.102743    0.806057   49.693429\n",
      "min      0.000000    1.000000    0.420000    0.000000    0.000000    0.000000\n",
      "25%      0.000000    2.000000   20.125000    0.000000    0.000000    7.910400\n",
      "50%      0.000000    3.000000   28.000000    0.000000    0.000000   14.454200\n",
      "75%      1.000000    3.000000   38.000000    1.000000    0.000000   31.000000\n",
      "max      1.000000    3.000000   80.000000    8.000000    6.000000  512.329200\n"
     ]
    }
   ],
   "source": [
    "print(titanic.describe())\n"
   ]
  },
  {
   "cell_type": "markdown",
   "id": "de4c5560",
   "metadata": {},
   "source": [
    "### Check for correlations "
   ]
  },
  {
   "cell_type": "code",
   "execution_count": 732,
   "id": "ac2b3fbe",
   "metadata": {},
   "outputs": [
    {
     "name": "stdout",
     "output_type": "stream",
     "text": [
      "            survived    pclass       age     sibsp     parch      fare  \\\n",
      "survived    1.000000 -0.338481 -0.077221 -0.035322  0.081629  0.257307   \n",
      "pclass     -0.338481  1.000000 -0.369226  0.083081  0.018443 -0.549500   \n",
      "age        -0.077221 -0.369226  1.000000 -0.308247 -0.189119  0.096067   \n",
      "sibsp      -0.035322  0.083081 -0.308247  1.000000  0.414838  0.159651   \n",
      "parch       0.081629  0.018443 -0.189119  0.414838  1.000000  0.216225   \n",
      "fare        0.257307 -0.549500  0.096067  0.159651  0.216225  1.000000   \n",
      "adult_male -0.557080  0.094035  0.280328 -0.253586 -0.349943 -0.182024   \n",
      "alone      -0.203367  0.135207  0.198270 -0.584471 -0.583398 -0.271832   \n",
      "\n",
      "            adult_male     alone  \n",
      "survived     -0.557080 -0.203367  \n",
      "pclass        0.094035  0.135207  \n",
      "age           0.280328  0.198270  \n",
      "sibsp        -0.253586 -0.584471  \n",
      "parch        -0.349943 -0.583398  \n",
      "fare         -0.182024 -0.271832  \n",
      "adult_male    1.000000  0.404744  \n",
      "alone         0.404744  1.000000  \n"
     ]
    }
   ],
   "source": [
    "print(titanic.corr(numeric_only=True))\n"
   ]
  },
  {
   "cell_type": "markdown",
   "id": "29b785d7",
   "metadata": {},
   "source": [
    "## Section 2. Data Exploration and Preparation\n"
   ]
  },
  {
   "cell_type": "markdown",
   "id": "1b6d3185",
   "metadata": {},
   "source": [
    "### 2.1 Explore Data Patterns and Distributions\n"
   ]
  },
  {
   "cell_type": "markdown",
   "id": "b9cd0789",
   "metadata": {},
   "source": [
    "### Create a scatter matrix. \n",
    "\n"
   ]
  },
  {
   "cell_type": "code",
   "execution_count": 733,
   "id": "a83f4541",
   "metadata": {},
   "outputs": [
    {
     "data": {
      "text/plain": [
       "array([[<Axes: xlabel='age', ylabel='age'>,\n",
       "        <Axes: xlabel='fare', ylabel='age'>,\n",
       "        <Axes: xlabel='pclass', ylabel='age'>],\n",
       "       [<Axes: xlabel='age', ylabel='fare'>,\n",
       "        <Axes: xlabel='fare', ylabel='fare'>,\n",
       "        <Axes: xlabel='pclass', ylabel='fare'>],\n",
       "       [<Axes: xlabel='age', ylabel='pclass'>,\n",
       "        <Axes: xlabel='fare', ylabel='pclass'>,\n",
       "        <Axes: xlabel='pclass', ylabel='pclass'>]], dtype=object)"
      ]
     },
     "execution_count": 733,
     "metadata": {},
     "output_type": "execute_result"
    },
    {
     "data": {
      "image/png": "[encoded data removed]",
      "text/plain": [
       "<Figure size 1000x600 with 9 Axes>"
      ]
     },
     "metadata": {},
     "output_type": "display_data"
    }
   ],
   "source": [
    "# all imports get moved to the top - import each only once\n",
    "from pandas.plotting import scatter_matrix\n",
    "\n",
    "\n",
    "attributes = ['age', 'fare', 'pclass']\n",
    "scatter_matrix(titanic[attributes], figsize=(10, 6))"
   ]
  },
  {
   "cell_type": "markdown",
   "id": "eeaed2e5",
   "metadata": {},
   "source": [
    "### Create a scatter plot of age vs fare, colored by gender:"
   ]
  },
  {
   "cell_type": "code",
   "execution_count": 734,
   "id": "81c8371b",
   "metadata": {},
   "outputs": [],
   "source": [
    "# all imports get moved to the top - import each only once\n",
    "import matplotlib.pyplot as plt\n"
   ]
  },
  {
   "cell_type": "code",
   "execution_count": 735,
   "id": "6a6a4fd5",
   "metadata": {},
   "outputs": [
    {
     "data": {
      "image/png": "[encoded data removed]",
      "text/plain": [
       "<Figure size 640x480 with 1 Axes>"
      ]
     },
     "metadata": {},
     "output_type": "display_data"
    }
   ],
   "source": [
    "plt.scatter(titanic['age'], titanic['fare'], c=titanic['sex'].apply(lambda x: 0 if x == 'male' else 1))\n",
    "plt.xlabel('Age')\n",
    "plt.ylabel('Fare')\n",
    "plt.title('Age vs Fare by Gender')\n",
    "plt.show()"
   ]
  },
  {
   "cell_type": "markdown",
   "id": "268cc10b",
   "metadata": {},
   "source": [
    "### plt.scatter(titanic['age'], titanic['fare'], c=titanic['sex'].apply(lambda x: 0 if x == 'male' else 1))\n",
    "plt.xlabel('Age')\n",
    "plt.ylabel('Fare')\n",
    "plt.title('Age vs Fare by Gender')\n",
    "plt.show()"
   ]
  },
  {
   "cell_type": "markdown",
   "id": "79c78f63",
   "metadata": {},
   "source": [
    "### Create a histogram of age:\n"
   ]
  },
  {
   "cell_type": "code",
   "execution_count": 736,
   "id": "08ae6f75",
   "metadata": {},
   "outputs": [
    {
     "data": {
      "image/png": "[encoded data removed]",
      "text/plain": [
       "<Figure size 640x480 with 1 Axes>"
      ]
     },
     "metadata": {},
     "output_type": "display_data"
    }
   ],
   "source": [
    "sns.histplot(titanic['age'], kde=True)\n",
    "plt.title('Age Distribution')\n",
    "plt.show()"
   ]
  },
  {
   "cell_type": "markdown",
   "id": "e579ac1f",
   "metadata": {},
   "source": [
    "Create a count plot for class and survival:\n",
    "\n"
   ]
  },
  {
   "cell_type": "code",
   "execution_count": 737,
   "id": "79fff20b",
   "metadata": {},
   "outputs": [
    {
     "data": {
      "image/png": "[encoded data removed]",
      "text/plain": [
       "<Figure size 640x480 with 1 Axes>"
      ]
     },
     "metadata": {},
     "output_type": "display_data"
    }
   ],
   "source": [
    "sns.countplot(x='class', hue='survived', data=titanic)\n",
    "plt.title('Class Distribution by Survival')\n",
    "plt.show()"
   ]
  },
  {
   "cell_type": "markdown",
   "id": "3209981a",
   "metadata": {},
   "source": [
    "## Reflection 2.1:\n",
    "\n",
    "What patterns or anomalies do you notice?\n",
    "\n",
    "•\tThe fare distribution is highly skewed, with a few passengers paying extremely high fares compared to most others.\n",
    "\n",
    "•\tThe age distribution is right-skewed, with more young adults and children than elderly passengers.\n",
    "\n",
    "•\tPclass appears as a discrete variable with clear group separations.\n",
    "\n",
    "•\tA positive correlation exists between higher fares and lower passenger class numbers (1 = First Class).\n",
    "\n",
    "Do any features stand out as potential predictors?\n",
    "\n",
    "•\tSex: Females show a much higher survival rate than males.\n",
    "•\tPclass: First-class passengers are more likely to survive compared to second and third classes.\n",
    "\n",
    "•\tFare: Higher fares correlate with higher chances of survival, possibly reflecting socioeconomic advantage.\n",
    "\n",
    "Are there any visible class imbalances?\n",
    "\n",
    "•\tYes. The survived variable shows that only about 38 % of passengers survived while 62 % did not, indicating a moderate class imbalance that should be considered in model training.\n",
    "\n",
    "\n"
   ]
  },
  {
   "cell_type": "markdown",
   "id": "583c6370",
   "metadata": {},
   "source": [
    "## 2.2 Handle Missing Values and Clean Data\n",
    "\n"
   ]
  },
  {
   "cell_type": "code",
   "execution_count": 738,
   "id": "486cf751",
   "metadata": {},
   "outputs": [
    {
     "name": "stdout",
     "output_type": "stream",
     "text": [
      "Missing values BEFORE cleaning:\n",
      "age            177\n",
      "embark_town      2\n",
      "embarked         2\n",
      "dtype: int64 \n",
      "\n"
     ]
    }
   ],
   "source": [
    "\n",
    "# Display missing counts before cleaning\n",
    "print(\"Missing values BEFORE cleaning:\")\n",
    "print(titanic[[\"age\", \"embark_town\", \"embarked\"]].isnull().sum(), \"\\n\")"
   ]
  },
  {
   "cell_type": "code",
   "execution_count": 739,
   "id": "a756e0c0",
   "metadata": {},
   "outputs": [
    {
     "name": "stdout",
     "output_type": "stream",
     "text": [
      "Age median used: 28.0\n",
      "Embark_town mode used: Southampton\n",
      "Embarked mode used: S\n",
      "\n"
     ]
    }
   ],
   "source": [
    "# Compute imputation statistics safely\n",
    "age_median = titanic[\"age\"].median(skipna=True)\n",
    "\n",
    "# Check if embark_town has any non-missing values before taking mode\n",
    "if titanic[\"embark_town\"].dropna().empty:\n",
    "    embark_town_mode = \"Unknown\"\n",
    "else:\n",
    "    embark_town_mode = titanic[\"embark_town\"].mode(dropna=True).iloc[0]\n",
    "\n",
    "# Same safety check for embarked\n",
    "if \"embarked\" in titanic.columns and not titanic[\"embarked\"].dropna().empty:\n",
    "    embarked_mode = titanic[\"embarked\"].mode(dropna=True).iloc[0]\n",
    "else:\n",
    "    embarked_mode = \"S\"   # most common port overall\n",
    "\n",
    "print(f\"Age median used: {age_median}\")\n",
    "print(f\"Embark_town mode used: {embark_town_mode}\")\n",
    "print(f\"Embarked mode used: {embarked_mode}\\n\")\n"
   ]
  },
  {
   "cell_type": "code",
   "execution_count": 740,
   "id": "284931bf",
   "metadata": {},
   "outputs": [
    {
     "name": "stdout",
     "output_type": "stream",
     "text": [
      "Missing values AFTER cleaning:\n",
      "age            0\n",
      "embark_town    0\n",
      "embarked       0\n",
      "dtype: int64 \n",
      "\n"
     ]
    },
    {
     "name": "stderr",
     "output_type": "stream",
     "text": [
      "C:\\Users\\alber\\AppData\\Local\\Temp\\ipykernel_15720\\1115944807.py:2: FutureWarning: A value is trying to be set on a copy of a DataFrame or Series through chained assignment using an inplace method.\n",
      "The behavior will change in pandas 3.0. This inplace method will never work because the intermediate object on which we are setting values always behaves as a copy.\n",
      "\n",
      "For example, when doing 'df[col].method(value, inplace=True)', try using 'df.method({col: value}, inplace=True)' or df[col] = df[col].method(value) instead, to perform the operation inplace on the original object.\n",
      "\n",
      "\n",
      "  titanic[\"age\"].fillna(age_median, inplace=True)\n",
      "C:\\Users\\alber\\AppData\\Local\\Temp\\ipykernel_15720\\1115944807.py:3: FutureWarning: A value is trying to be set on a copy of a DataFrame or Series through chained assignment using an inplace method.\n",
      "The behavior will change in pandas 3.0. This inplace method will never work because the intermediate object on which we are setting values always behaves as a copy.\n",
      "\n",
      "For example, when doing 'df[col].method(value, inplace=True)', try using 'df.method({col: value}, inplace=True)' or df[col] = df[col].method(value) instead, to perform the operation inplace on the original object.\n",
      "\n",
      "\n",
      "  titanic[\"embark_town\"].fillna(embark_town_mode, inplace=True)\n",
      "C:\\Users\\alber\\AppData\\Local\\Temp\\ipykernel_15720\\1115944807.py:4: FutureWarning: A value is trying to be set on a copy of a DataFrame or Series through chained assignment using an inplace method.\n",
      "The behavior will change in pandas 3.0. This inplace method will never work because the intermediate object on which we are setting values always behaves as a copy.\n",
      "\n",
      "For example, when doing 'df[col].method(value, inplace=True)', try using 'df.method({col: value}, inplace=True)' or df[col] = df[col].method(value) instead, to perform the operation inplace on the original object.\n",
      "\n",
      "\n",
      "  titanic[\"embarked\"].fillna(embarked_mode, inplace=True)\n"
     ]
    }
   ],
   "source": [
    "# Fill the missing values\n",
    "titanic[\"age\"].fillna(age_median, inplace=True)\n",
    "titanic[\"embark_town\"].fillna(embark_town_mode, inplace=True)\n",
    "titanic[\"embarked\"].fillna(embarked_mode, inplace=True)\n",
    "\n",
    "# Show missing counts after cleaning\n",
    "print(\"Missing values AFTER cleaning:\")\n",
    "print(titanic[[\"age\", \"embark_town\", \"embarked\"]].isnull().sum(), \"\\n\")\n",
    "\n"
   ]
  },
  {
   "cell_type": "code",
   "execution_count": 741,
   "id": "527a8775",
   "metadata": {},
   "outputs": [
    {
     "name": "stdout",
     "output_type": "stream",
     "text": [
      "Age summary after cleaning:\n",
      "count    891.000000\n",
      "mean      29.361582\n",
      "std       13.019697\n",
      "min        0.420000\n",
      "25%       22.000000\n",
      "50%       28.000000\n",
      "75%       35.000000\n",
      "max       80.000000\n",
      "Name: age, dtype: float64 \n",
      "\n",
      "Embark_town frequency after cleaning:\n",
      "embark_town\n",
      "Southampton    646\n",
      "Cherbourg      168\n",
      "Queenstown      77\n",
      "Name: count, dtype: int64 \n",
      "\n",
      "Embarked frequency after cleaning:\n",
      "embarked\n",
      "S    646\n",
      "C    168\n",
      "Q     77\n",
      "Name: count, dtype: int64 \n",
      "\n"
     ]
    }
   ],
   "source": [
    "# Show summary statistics and quick verification\n",
    "print(\"Age summary after cleaning:\")\n",
    "print(titanic[\"age\"].describe(), \"\\n\")\n",
    "\n",
    "print(\"Embark_town frequency after cleaning:\")\n",
    "print(titanic[\"embark_town\"].value_counts(), \"\\n\")\n",
    "\n",
    "print(\"Embarked frequency after cleaning:\")\n",
    "print(titanic[\"embarked\"].value_counts(), \"\\n\")\n",
    "\n"
   ]
  },
  {
   "cell_type": "code",
   "execution_count": 742,
   "id": "e58fe148",
   "metadata": {},
   "outputs": [
    {
     "name": "stdout",
     "output_type": "stream",
     "text": [
      "Sample rows showing cleaned values:\n",
      "    age  embark_town embarked\n",
      "0  22.0  Southampton        S\n",
      "1  38.0    Cherbourg        C\n",
      "2  26.0  Southampton        S\n",
      "3  35.0  Southampton        S\n",
      "4  35.0  Southampton        S\n",
      "5  28.0   Queenstown        Q\n",
      "6  54.0  Southampton        S\n",
      "7   2.0  Southampton        S\n",
      "8  27.0  Southampton        S\n",
      "9  14.0    Cherbourg        C\n"
     ]
    }
   ],
   "source": [
    "# Display sample rows to verify\n",
    "print(\"Sample rows showing cleaned values:\")\n",
    "print(titanic[[\"age\", \"embark_town\", \"embarked\"]].head(10))\n"
   ]
  },
  {
   "cell_type": "markdown",
   "id": "6c0206a1",
   "metadata": {},
   "source": [
    "### Reflection 2.3\n",
    "\n",
    "Why might family size be a useful feature for predicting survival?\n",
    "\n",
    "•\tPassengers traveling with family members may have had a higher chance of survival because they could help each other during the evacuation.\n",
    "\n",
    "•\tLarger families might have faced challenges staying together in crowded lifeboat situations, potentially reducing survival chances.\n",
    "\n",
    "•\tThe family_size variable captures both supportive and dependent relationships that can influence survival outcomes.\n",
    "\n",
    "Why convert categorical data to numeric?\n",
    "\n",
    "•\tMachine learning models and most statistical algorithms require numeric input to perform mathematical computations.\n",
    "\n",
    "•\tEncoding categorical variables (like sex and embarked) allows models to recognize and quantify the influence of each category.\n",
    "\n",
    "•\tNumeric encoding improves model performance, enables correlation analysis, and ensures compatibility with tools such as scikit-learn.\n",
    "\n"
   ]
  },
  {
   "cell_type": "markdown",
   "id": "54723814",
   "metadata": {},
   "source": [
    "## 3. Feature Engineering\n"
   ]
  },
  {
   "cell_type": "markdown",
   "id": "b5802174",
   "metadata": {},
   "source": [
    "\n",
    "### Create a new derived feature:\n"
   ]
  },
  {
   "cell_type": "code",
   "execution_count": 743,
   "id": "84ebcf03",
   "metadata": {},
   "outputs": [
    {
     "name": "stdout",
     "output_type": "stream",
     "text": [
      " New feature 'family_size' created successfully.\n",
      "\n",
      "Family Size Summary:\n",
      "count    891.000000\n",
      "mean       1.904602\n",
      "std        1.613459\n",
      "min        1.000000\n",
      "25%        1.000000\n",
      "50%        1.000000\n",
      "75%        2.000000\n",
      "max       11.000000\n",
      "Name: family_size, dtype: float64 \n",
      "\n"
     ]
    }
   ],
   "source": [
    "# --- 1. Create a new derived feature: Family Size ---\n",
    "# Family size = number of siblings/spouses + number of parents/children + 1 (the passenger)\n",
    "titanic[\"family_size\"] = titanic[\"sibsp\"] + titanic[\"parch\"] + 1\n",
    "\n",
    "print(\" New feature 'family_size' created successfully.\\n\")\n",
    "print(\"Family Size Summary:\")\n",
    "print(titanic[\"family_size\"].describe(), \"\\n\")\n"
   ]
  },
  {
   "cell_type": "code",
   "execution_count": 744,
   "id": "386104fb",
   "metadata": {},
   "outputs": [
    {
     "name": "stderr",
     "output_type": "stream",
     "text": [
      "C:\\Users\\alber\\AppData\\Local\\Temp\\ipykernel_15720\\2268646380.py:5: FutureWarning: \n",
      "\n",
      "Passing `palette` without assigning `hue` is deprecated and will be removed in v0.14.0. Assign the `x` variable to `hue` and set `legend=False` for the same effect.\n",
      "\n",
      "  sns.countplot(x=\"family_size\", data=titanic, palette=\"Blues\")\n"
     ]
    },
    {
     "data": {
      "image/png": "[encoded data removed]",
      "text/plain": [
       "<Figure size 800x400 with 1 Axes>"
      ]
     },
     "metadata": {},
     "output_type": "display_data"
    }
   ],
   "source": [
    "# Visual check: How family sizes are distributed\n",
    "import matplotlib.pyplot as plt\n",
    "import seaborn as sns\n",
    "plt.figure(figsize=(8,4))\n",
    "sns.countplot(x=\"family_size\", data=titanic, palette=\"Blues\")\n",
    "plt.title(\"Distribution of Family Size\")\n",
    "plt.xlabel(\"Family Size\")\n",
    "plt.ylabel(\"Count of Passengers\")\n",
    "plt.show()"
   ]
  },
  {
   "cell_type": "markdown",
   "id": "01a8be9f",
   "metadata": {},
   "source": [
    "### Convert categorical data to numeric:\n"
   ]
  },
  {
   "cell_type": "code",
   "execution_count": 745,
   "id": "71694b65",
   "metadata": {},
   "outputs": [
    {
     "name": "stdout",
     "output_type": "stream",
     "text": [
      "Converted 'sex' to numeric (0=male, 1=female).\n"
     ]
    }
   ],
   "source": [
    "# --- 2. Convert categorical data to numeric safely ---\n",
    "# Convert 'sex' to numeric: male=0, female=1\n",
    "if titanic[\"sex\"].dtype == \"O\":\n",
    "    titanic[\"sex\"] = titanic[\"sex\"].map({\"male\": 0, \"female\": 1})\n",
    "print(\"Converted 'sex' to numeric (0=male, 1=female).\")\n"
   ]
  },
  {
   "cell_type": "code",
   "execution_count": 746,
   "id": "a0117bff",
   "metadata": {},
   "outputs": [
    {
     "name": "stdout",
     "output_type": "stream",
     "text": [
      " Converted 'embarked' to numeric (C=0, Q=1, S=2).\n",
      "\n"
     ]
    }
   ],
   "source": [
    "# Convert 'embarked' to numeric: C=0, Q=1, S=2\n",
    "if titanic[\"embarked\"].dtype == \"O\":\n",
    "    titanic[\"embarked\"] = titanic[\"embarked\"].map({\"C\": 0, \"Q\": 1, \"S\": 2})\n",
    "print(\" Converted 'embarked' to numeric (C=0, Q=1, S=2).\\n\")"
   ]
  },
  {
   "cell_type": "markdown",
   "id": "7df99291",
   "metadata": {},
   "source": [
    "### Create a binary feature for 'alone':\n"
   ]
  },
  {
   "cell_type": "code",
   "execution_count": 747,
   "id": "968175d6",
   "metadata": {},
   "outputs": [
    {
     "name": "stdout",
     "output_type": "stream",
     "text": [
      " Converted 'alone' feature to binary (0=Not Alone, 1=Alone).\n",
      "\n"
     ]
    }
   ],
   "source": [
    "\n",
    "# --- 3. Create binary indicator for 'alone' ---\n",
    "# The 'alone' column already exists as boolean in seaborn’s Titanic dataset\n",
    "# Convert True/False to 1/0 for modeling\n",
    "if titanic[\"alone\"].dtype == \"bool\":\n",
    "    titanic[\"alone\"] = titanic[\"alone\"].astype(int)\n",
    "print(\" Converted 'alone' feature to binary (0=Not Alone, 1=Alone).\\n\")\n"
   ]
  },
  {
   "cell_type": "code",
   "execution_count": 748,
   "id": "5d97e6b2",
   "metadata": {},
   "outputs": [
    {
     "name": "stdout",
     "output_type": "stream",
     "text": [
      "Data Types After Transformation:\n",
      "sex            int64\n",
      "embarked       int64\n",
      "alone          int64\n",
      "family_size    int64\n",
      "dtype: object \n",
      "\n",
      "Sample Data After Feature Engineering:\n",
      "   sex  embarked  alone  sibsp  parch  family_size\n",
      "0    0         2      0      1      0            2\n",
      "1    1         0      0      1      0            2\n",
      "2    1         2      1      0      0            1\n",
      "3    1         2      0      1      0            2\n",
      "4    0         2      1      0      0            1\n",
      "5    0         1      1      0      0            1\n",
      "6    0         2      1      0      0            1\n",
      "7    0         2      0      3      1            5\n",
      "8    1         2      0      0      2            3\n",
      "9    1         0      0      1      0            2 \n",
      "\n"
     ]
    }
   ],
   "source": [
    "# --- 4. Verification of all transformations ---\n",
    "print(\"Data Types After Transformation:\")\n",
    "print(titanic[[\"sex\", \"embarked\", \"alone\", \"family_size\"]].dtypes, \"\\n\")\n",
    "\n",
    "print(\"Sample Data After Feature Engineering:\")\n",
    "print(titanic[[\"sex\", \"embarked\", \"alone\", \"sibsp\", \"parch\", \"family_size\"]].head(10), \"\\n\")"
   ]
  },
  {
   "cell_type": "code",
   "execution_count": 749,
   "id": "1bd68b5e",
   "metadata": {},
   "outputs": [
    {
     "name": "stdout",
     "output_type": "stream",
     "text": [
      "Unique values for encoded categorical variables:\n",
      "Sex: [0 1]\n",
      "Embarked: [2 0 1]\n",
      "Alone: [0 1]\n"
     ]
    }
   ],
   "source": [
    "# --- 5. Quick sanity checks ---\n",
    "print(\"Unique values for encoded categorical variables:\")\n",
    "print(\"Sex:\", titanic[\"sex\"].unique())\n",
    "print(\"Embarked:\", titanic[\"embarked\"].unique())\n",
    "print(\"Alone:\", titanic[\"alone\"].unique())"
   ]
  },
  {
   "cell_type": "markdown",
   "id": "34afbd2f",
   "metadata": {},
   "source": []
  },
  {
   "cell_type": "markdown",
   "id": "ec965892",
   "metadata": {},
   "source": [
    "## Section 3. Feature Selection and Justification\n"
   ]
  },
  {
   "cell_type": "markdown",
   "id": "5f0fa07e",
   "metadata": {},
   "source": [
    "### 3.1 Choose features and target\n",
    "\n"
   ]
  },
  {
   "cell_type": "code",
   "execution_count": 750,
   "id": "26c93138",
   "metadata": {},
   "outputs": [
    {
     "name": "stdout",
     "output_type": "stream",
     "text": [
      "Target: survived\n",
      "Input features: ['age', 'fare', 'pclass', 'sex', 'family_size']\n",
      "\n",
      "Justification:\n",
      "age captures life stage which may affect evacuation\n",
      "fare and pclass proxy socioeconomic status and access to lifeboats\n",
      "sex is critical given women and children first protocol\n",
      "family_size captures group dynamics that may help or hinder evacuation\n",
      "\n"
     ]
    }
   ],
   "source": [
    "target = \"survived\"\n",
    "features = [\"age\", \"fare\", \"pclass\", \"sex\", \"family_size\"]\n",
    "\n",
    "print(f\"Target: {target}\")\n",
    "print(f\"Input features: {features}\\n\")\n",
    "\n",
    "print(\"Justification:\")\n",
    "print(\"age captures life stage which may affect evacuation\")\n",
    "print(\"fare and pclass proxy socioeconomic status and access to lifeboats\")\n",
    "print(\"sex is critical given women and children first protocol\")\n",
    "print(\"family_size captures group dynamics that may help or hinder evacuation\\n\")\n"
   ]
  },
  {
   "cell_type": "code",
   "execution_count": 751,
   "id": "ccd0e4e9",
   "metadata": {},
   "outputs": [
    {
     "name": "stdout",
     "output_type": "stream",
     "text": [
      "Created X and y successfully\n",
      "X shape: (891, 5)\n",
      "y shape: (891,)\n",
      "\n",
      "Preview of X:\n",
      "    age     fare  pclass  sex  family_size\n",
      "0  22.0   7.2500       3    0            2\n",
      "1  38.0  71.2833       1    1            2\n",
      "2  26.0   7.9250       3    1            1\n",
      "3  35.0  53.1000       1    1            2\n",
      "4  35.0   8.0500       3    0            1\n",
      "\n",
      "Distribution of y:\n",
      "survived\n",
      "0    549\n",
      "1    342\n",
      "Name: count, dtype: int64\n",
      "\n",
      "Proportion of y:\n",
      "survived\n",
      "0    0.616\n",
      "1    0.384\n",
      "Name: proportion, dtype: float64\n"
     ]
    }
   ],
   "source": [
    "\n",
    "# Safety check to ensure required columns exist\n",
    "missing = [c for c in features + [target] if c not in titanic.columns]\n",
    "if missing:\n",
    "    raise KeyError(f\"Missing required columns: {missing}\")\n",
    "\n",
    "X = titanic[features].copy()\n",
    "y = titanic[target].copy()\n",
    "\n",
    "print(\"Created X and y successfully\")\n",
    "print(f\"X shape: {X.shape}\")\n",
    "print(f\"y shape: {y.shape}\\n\")\n",
    "\n",
    "print(\"Preview of X:\")\n",
    "print(X.head())\n",
    "\n",
    "print(\"\\nDistribution of y:\")\n",
    "print(y.value_counts().rename(\"count\"))\n",
    "print(\"\\nProportion of y:\")\n",
    "print(y.value_counts(normalize=True).rename(\"proportion\").round(3))"
   ]
  },
  {
   "cell_type": "markdown",
   "id": "59bd7e57",
   "metadata": {},
   "source": []
  },
  {
   "cell_type": "markdown",
   "id": "197d8782",
   "metadata": {},
   "source": [
    "## Reflection 3:\n",
    "\n",
    "Why are these features selected?\n",
    "\n",
    "•\tAge: Represents life stage and physical ability — younger passengers, especially children, were more likely to receive assistance.\n",
    "\n",
    "•\tFare: Serves as a proxy for socioeconomic status; higher fares are linked to higher-class cabins with better access to lifeboats.\n",
    "\n",
    "•\tPclass: Reflects passenger class, which historically influenced survival priority during evacuation.\n",
    "\n",
    "•\tSex: Critical variable, as “women and children first” was a guiding evacuation policy.\n",
    "\n",
    "•\tFamily Size: Captures group dynamics — traveling with family could increase support but also create delays when staying together.\n",
    "\n",
    "Are there any features that are likely to be highly predictive of survival?\n",
    "\n",
    "•\tSex is likely the most predictive feature because females had significantly higher survival rates.\n",
    "\n",
    "•\tPclass and Fare are also strong predictors due to their connection to wealth and cabin location.\n",
    "\n",
    "•\tCombining family_size with these variables can improve predictive modeling by adding social context to individual survival probabilities.\n",
    "\n",
    "\n",
    "\n",
    "\n",
    "\n"
   ]
  },
  {
   "cell_type": "markdown",
   "id": "6e74ec10",
   "metadata": {},
   "source": [
    "## Section 4. Splitting\n"
   ]
  },
  {
   "cell_type": "markdown",
   "id": "f8ca99a9",
   "metadata": {},
   "source": [
    "### Basic Train/Test split \n"
   ]
  },
  {
   "cell_type": "code",
   "execution_count": 752,
   "id": "cabd8eaa",
   "metadata": {},
   "outputs": [
    {
     "name": "stdout",
     "output_type": "stream",
     "text": [
      "Original survived distribution\n",
      "survived\n",
      "0    0.616\n",
      "1    0.384\n",
      "Name: proportion, dtype: float64\n",
      "Train survived distribution\n",
      "survived\n",
      "0    0.617\n",
      "1    0.383\n",
      "Name: proportion, dtype: float64\n",
      "Test survived distribution\n",
      "survived\n",
      "0    0.615\n",
      "1    0.385\n",
      "Name: proportion, dtype: float64\n"
     ]
    }
   ],
   "source": [
    "from sklearn.model_selection import StratifiedShuffleSplit\n",
    "\n",
    "splitter = StratifiedShuffleSplit(n_splits=1, test_size=0.2, random_state=123)\n",
    "for tr_idx, te_idx in splitter.split(X, y):\n",
    "    X_train, X_test = X.iloc[tr_idx], X.iloc[te_idx]\n",
    "    y_train, y_test = y.iloc[tr_idx], y.iloc[te_idx]\n",
    "\n",
    "print(\"Original survived distribution\")\n",
    "print(y.value_counts(normalize=True).round(3))\n",
    "print(\"Train survived distribution\")\n",
    "print(y_train.value_counts(normalize=True).round(3))\n",
    "print(\"Test survived distribution\")\n",
    "print(y_test.value_counts(normalize=True).round(3))\n"
   ]
  },
  {
   "cell_type": "code",
   "execution_count": 753,
   "id": "dc1698d7",
   "metadata": {},
   "outputs": [
    {
     "name": "stdout",
     "output_type": "stream",
     "text": [
      "Train size: 712\n",
      "Test size: 179\n"
     ]
    }
   ],
   "source": [
    "from sklearn.model_selection import train_test_split\n",
    "\n",
    "train_set = X_train.copy()\n",
    "train_set[\"survived\"] = y_train.values\n",
    "\n",
    "test_set = X_test.copy()\n",
    "test_set[\"survived\"] = y_test.values\n",
    "\n",
    "print(\"Train size:\", len(train_set))\n",
    "print(\"Test size:\",  len(test_set))\n"
   ]
  },
  {
   "cell_type": "markdown",
   "id": "22952a68",
   "metadata": {},
   "source": [
    "### Stratified Train/Test split\n"
   ]
  },
  {
   "cell_type": "code",
   "execution_count": 754,
   "id": "c985bfa8",
   "metadata": {},
   "outputs": [
    {
     "name": "stdout",
     "output_type": "stream",
     "text": [
      "Train size: 712\n",
      "Test size: 179\n"
     ]
    }
   ],
   "source": [
    "from sklearn.model_selection import StratifiedShuffleSplit\n",
    "\n",
    "splitter = StratifiedShuffleSplit(n_splits=1, test_size=0.2, random_state=123)\n",
    "\n",
    "for train_indices, test_indices in splitter.split(X, y):\n",
    "    train_set = X.iloc[train_indices]\n",
    "    test_set = X.iloc[test_indices]\n",
    "\n",
    "print('Train size:', len(train_set))\n",
    "print('Test size:', len(test_set))"
   ]
  },
  {
   "cell_type": "markdown",
   "id": "20811790",
   "metadata": {},
   "source": [
    "### Compare Results\n"
   ]
  },
  {
   "cell_type": "code",
   "execution_count": 755,
   "id": "91f5a853",
   "metadata": {},
   "outputs": [
    {
     "name": "stdout",
     "output_type": "stream",
     "text": [
      "Original Class Distribution:\n",
      " survived\n",
      "0    0.616162\n",
      "1    0.383838\n",
      "Name: proportion, dtype: float64\n",
      "Train Set Class Distribution:\n",
      " pclass\n",
      "3    0.561798\n",
      "1    0.227528\n",
      "2    0.210674\n",
      "Name: proportion, dtype: float64\n",
      "Test Set Class Distribution:\n",
      " pclass\n",
      "3    0.508380\n",
      "1    0.301676\n",
      "2    0.189944\n",
      "Name: proportion, dtype: float64\n"
     ]
    }
   ],
   "source": [
    "print(\"Original Class Distribution:\\n\", y.value_counts(normalize=True))\n",
    "print(\"Train Set Class Distribution:\\n\", train_set['pclass'].value_counts(normalize=True))\n",
    "print(\"Test Set Class Distribution:\\n\", test_set['pclass'].value_counts(normalize=True))"
   ]
  },
  {
   "cell_type": "markdown",
   "id": "414d84dc",
   "metadata": {},
   "source": [
    "### Reflection 4:\n",
    "\n",
    "Why might stratification improve model performance?\n",
    "\n",
    "•\tStratification ensures that the proportion of target classes (survived vs. not survived) remains consistent across both training and testing datasets.\n",
    "\n",
    "•\tThis prevents bias during model training, particularly when the dataset is slightly imbalanced (in this case, ~62 % non-survivors and ~38 % survivors).\n",
    "\n",
    "•\tAs a result, models trained on stratified data generalize better and produce more reliable performance metrics.\n",
    "\n",
    "How close are the training and test distributions to the original dataset?\n",
    "\n",
    "•\tThe class distribution in the training set (0.617 vs. 0.383) and test set (0.615 vs. 0.385) closely matches the original distribution (0.616 vs. 0.384).\n",
    "\n",
    "•\tThis indicates that stratification successfully preserved the survival ratio, maintaining data consistency between splits.\n",
    "\n",
    "Which split method produced better class balance?\n",
    "\n",
    "•\tThe StratifiedShuffleSplit method produced better class balance compared to a random train/test split.\n",
    "\n",
    "•\tIt ensures both subsets reflect the original class proportions, reducing sampling bias and improving fairness in model evaluation.\n",
    "\n",
    "\n",
    "\n"
   ]
  }
 ],
 "metadata": {
  "kernelspec": {
   "display_name": ".venv",
   "language": "python",
   "name": "python3"
  },
  "language_info": {
   "codemirror_mode": {
    "name": "ipython",
    "version": 3
   },
   "file_extension": ".py",
   "mimetype": "text/x-python",
   "name": "python",
   "nbconvert_exporter": "python",
   "pygments_lexer": "ipython3",
   "version": "3.13.5"
  }
 },
 "nbformat": 4,
 "nbformat_minor": 5
}
